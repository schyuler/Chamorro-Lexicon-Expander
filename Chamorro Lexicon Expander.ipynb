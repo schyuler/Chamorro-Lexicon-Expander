{
 "cells": [
  {
   "cell_type": "markdown",
   "id": "45da0500",
   "metadata": {},
   "source": [
    "# Chamorro Lexicon Expander"
   ]
  },
  {
   "cell_type": "markdown",
   "id": "9ddbf814",
   "metadata": {},
   "source": [
    "**Chamorro Lexicon Expander** is a Python project designed to expand the Chamorro-English dictionary by generating all possible affixed variations of Chamorro root words. This tool automates the process of creating word forms using common Chamorro prefixes, suffixes, and infixes according to linguistic rules. This project enables a more comprehensive representation of Chamorro vocabulary for language learners, linguists, and dictionary development."
   ]
  },
  {
   "cell_type": "markdown",
   "id": "77d37b60",
   "metadata": {},
   "source": [
    "**Name:** Schyuler Lujan <br>\n",
    "**Date Started:** 10-Nov-2024 <br>\n",
    "**Date Complete:** In Progress <br>"
   ]
  },
  {
   "cell_type": "code",
   "execution_count": 1,
   "id": "817ed91a",
   "metadata": {},
   "outputs": [],
   "source": [
    "# Import libraries\n",
    "import re\n",
    "import pandas as pd\n",
    "import csv"
   ]
  },
  {
   "cell_type": "markdown",
   "id": "c1683094",
   "metadata": {},
   "source": [
    "# IMPORT AND CLEAN DATA"
   ]
  },
  {
   "cell_type": "markdown",
   "id": "e995e9d5",
   "metadata": {},
   "source": [
    "**About this data:** For this project, we will be using the words and part-of-speech tags from the Revised Chamorro-English dictionary, which is available for free at https://natibunmarianas.org/chamorro-dictionary/. We will be using this data because it is currently the only freely available resource online with the most complete and reliably accurate part-of-speech tags on Chamorro words. Part-of-speech tags will determine which words can be transformed with the different affixes."
   ]
  },
  {
   "cell_type": "code",
   "execution_count": 21,
   "id": "c69f99be",
   "metadata": {},
   "outputs": [],
   "source": [
    "# Import files and convert to dataframes\n",
    "# tverbs_df = pd.read_csv(\"transitive-verbs.csv\", encoding=\"utf-8\")\n",
    "# iverbs_df = pd.read_csv(\"intransitive-verbs.csv\", encoding=\"utf-8\")"
   ]
  },
  {
   "cell_type": "code",
   "execution_count": 22,
   "id": "ffb2f160",
   "metadata": {},
   "outputs": [],
   "source": [
    "# Preview dataframe\n",
    "#tverbs_df.head()"
   ]
  },
  {
   "cell_type": "markdown",
   "id": "91fdd247",
   "metadata": {},
   "source": [
    "# VOWEL HARMONY"
   ]
  },
  {
   "cell_type": "markdown",
   "id": "59449c7d",
   "metadata": {},
   "source": [
    "**About Vowel Harmony:** In Chamorro, vowel harmony refers to how certain vowels must change into different vowels, depending upon the vowel that comes before it. In general, the vowels \"å\", \"o\", and \"e\" must shift if they are preceded by an \"i\"."
   ]
  },
  {
   "cell_type": "markdown",
   "id": "d101f494",
   "metadata": {},
   "source": [
    "## Vowel Harmony Rules"
   ]
  },
  {
   "cell_type": "code",
   "execution_count": 2,
   "id": "ed327f83",
   "metadata": {},
   "outputs": [],
   "source": [
    "# Create a list of vowels that need to be transformed by vowel harmony\n",
    "vowels = ['a', 'á', 'å', 'e', 'é', 'i', 'í', 'o', 'ó', 'u']"
   ]
  },
  {
   "cell_type": "code",
   "execution_count": 124,
   "id": "34f7690e",
   "metadata": {},
   "outputs": [],
   "source": [
    "# Create a dictionary of vowel harmony transformation rules\n",
    "vowel_harmony_rules = {\"å\": \"a\", \"o\": \"e\", \"u\": \"i\"}\n",
    "\n",
    "# Create a dictionary of vowel lowering / vowel fronting rules to be used with some prefixes\n",
    "### DICTIONARY FOR VOWEL LOWERING RULES GOES HERE ###"
   ]
  },
  {
   "cell_type": "markdown",
   "id": "4e9921bd",
   "metadata": {},
   "source": [
    "## Create Vowel Harmonized Word"
   ]
  },
  {
   "cell_type": "code",
   "execution_count": 4,
   "id": "2bb7db04",
   "metadata": {},
   "outputs": [],
   "source": [
    "def vowel_harmonized_word(word, vowels, vowel_harmony_rules):\n",
    "    \"\"\"\n",
    "    Transforms a word to apply vowel harmony rules and returns the vowel harmonized word\n",
    "    \"\"\"\n",
    "    for letter in word:\n",
    "        if letter in vowels:\n",
    "            \n",
    "            # If the first vowel is in the vowel harmony rule list, transform the word\n",
    "            if letter in vowel_harmony_rules: \n",
    "                new_word = word.replace(letter, vowel_harmony_rules[letter], 1)\n",
    "            else:\n",
    "                new_word = word\n",
    "            break # Stop iteration after first vowel\n",
    "    \n",
    "    return new_word"
   ]
  },
  {
   "cell_type": "code",
   "execution_count": 5,
   "id": "d7407f52",
   "metadata": {},
   "outputs": [
    {
     "data": {
      "text/plain": [
       "'chalåni'"
      ]
     },
     "execution_count": 5,
     "metadata": {},
     "output_type": "execute_result"
    }
   ],
   "source": [
    "### DELETE ME TEST CODE ###\n",
    "word = \"chalåni\"\n",
    "vowel_harmonized_word(word, vowels, vowel_harmony_rules)"
   ]
  },
  {
   "cell_type": "markdown",
   "id": "afdfc724",
   "metadata": {},
   "source": [
    "## Apply Vowel Harmony Transformation"
   ]
  },
  {
   "cell_type": "code",
   "execution_count": 125,
   "id": "a29c1578",
   "metadata": {},
   "outputs": [],
   "source": [
    "def apply_vowel_harmony(data, vowels, vowel_harmony_rules):\n",
    "    \"\"\"\n",
    "    Takes a list of words and transforms them with vowel harmony.\n",
    "    Produces a list of tuples, with each tupple containing the new word, base word, and the transformation name.\n",
    "    \"\"\"\n",
    "    # Initialize list to store new words\n",
    "    new_words = []\n",
    "    \n",
    "    # Iterate through data and apply vowel harmony rules\n",
    "    for word in data:\n",
    "        new_word = vowel_harmonized_word(word, vowels, vowel_harmony_rules)\n",
    "        new_words.append((new_word, word, \"Vowel Harmony\"))\n",
    "        \n",
    "    return new_words"
   ]
  },
  {
   "cell_type": "code",
   "execution_count": 126,
   "id": "43d6c3b9",
   "metadata": {},
   "outputs": [
    {
     "name": "stdout",
     "output_type": "stream",
     "text": [
      "[('chalan', 'chålan', 'Vowel Harmony'), (\"gima'\", \"guma'\", 'Vowel Harmony'), (\"te'lang\", \"to'lang\", 'Vowel Harmony')]\n"
     ]
    }
   ],
   "source": [
    "### DELETE ME TEST CODE ###\n",
    "word_list = [\"chålan\", \"guma'\", \"to'lang\"]\n",
    "print(apply_vowel_harmony(word_list, vowels, vowel_harmony_rules))"
   ]
  },
  {
   "cell_type": "markdown",
   "id": "f57c3a2c",
   "metadata": {},
   "source": [
    "# INFIXES"
   ]
  },
  {
   "cell_type": "markdown",
   "id": "f272ffb9",
   "metadata": {},
   "source": [
    "**About Chamorro Infixes:** Infixes are affixes that occur within the word, rather than being attached in front of the word or at the end. In Chamorro, infixes are always applied before the first vowel of the word they are attached to. If the word it's being attached to starts with a vowel, the infix is still placed in front of that vowel. There are two infixes in Chamorro: -in- and -um-."
   ]
  },
  {
   "cell_type": "markdown",
   "id": "6b1d6416",
   "metadata": {},
   "source": [
    "## Create Infixed Word"
   ]
  },
  {
   "cell_type": "code",
   "execution_count": 128,
   "id": "f68ff06a",
   "metadata": {},
   "outputs": [],
   "source": [
    "def infixed_word(word, vowels, infix):\n",
    "    \"\"\"\n",
    "    Transforms a word with an infix and returns the infixed word.\n",
    "    Vowel harmony transformations are in the function `vowel_harmonized_word`\n",
    "    \"\"\"\n",
    "    \n",
    "    for letter in word:\n",
    "        if letter in vowels:\n",
    "            i = word.index(letter) # Get vowel's index\n",
    "            new_word = word[0:i]+infix+word[i:] # Add the infix before vowel\n",
    "            break # Stop iteration after first vowel\n",
    "    \n",
    "    return new_word"
   ]
  },
  {
   "cell_type": "code",
   "execution_count": 129,
   "id": "ac99c0df",
   "metadata": {},
   "outputs": [
    {
     "data": {
      "text/plain": [
       "'pinåtgon'"
      ]
     },
     "execution_count": 129,
     "metadata": {},
     "output_type": "execute_result"
    }
   ],
   "source": [
    "### DELETE ME TEST CODE ###\n",
    "word = \"påtgon\"\n",
    "infix = \"in\"\n",
    "infixed_word(word, vowels, infix)"
   ]
  },
  {
   "cell_type": "markdown",
   "id": "706a6fc7",
   "metadata": {},
   "source": [
    "## Apply UM Infix Transformation"
   ]
  },
  {
   "cell_type": "code",
   "execution_count": 130,
   "id": "a519796b",
   "metadata": {},
   "outputs": [],
   "source": [
    "def apply_um_infix(data, vowels):\n",
    "    \"\"\"\n",
    "    Iterates through a list of words and applies the UM Infix\n",
    "    \"\"\"\n",
    "    # Define our infix\n",
    "    infix = \"um\"\n",
    "    \n",
    "    # Intialize list to store the infixed word, root word, and the infix name\n",
    "    new_words = []\n",
    "    \n",
    "    # Transform word with UM Infix and append the new word to new_words\n",
    "    for word in data:\n",
    "        new_word = infixed_word(word, vowels, infix)\n",
    "        new_words.append((new_word, word, f\"{infix} infix\"))\n",
    "        \n",
    "    return new_words"
   ]
  },
  {
   "cell_type": "code",
   "execution_count": 131,
   "id": "01c1a8bc",
   "metadata": {},
   "outputs": [
    {
     "name": "stdout",
     "output_type": "stream",
     "text": [
      "[('humånao', 'hånao', 'um infix'), (\"kumonne'\", \"konne'\", 'um infix'), ('tumaitai', 'taitai', 'um infix'), ('tumufong', 'tufong', 'um infix')]\n"
     ]
    }
   ],
   "source": [
    "### DELETE ME TEST CODE ###\n",
    "data = [\"hånao\", \"konne'\", \"taitai\", \"tufong\"]\n",
    "print(apply_um_infix(data, vowels))"
   ]
  },
  {
   "cell_type": "markdown",
   "id": "f980ed3e",
   "metadata": {},
   "source": [
    "## Apply IN Infix Transformation"
   ]
  },
  {
   "cell_type": "code",
   "execution_count": 132,
   "id": "47c45c28",
   "metadata": {},
   "outputs": [],
   "source": [
    "def apply_in_infix(data, vowels, vowel_harmony_rules):\n",
    "    \"\"\"\n",
    "    Iterates through a list of words and applies the IN Infix.\n",
    "    Vowel harmony rules must also be applied with the IN infix transformation.\n",
    "    \"\"\"\n",
    "    # Define the infix\n",
    "    infix = \"in\"\n",
    "    \n",
    "    # Intialize list to store the infixed word, root word, and the infix name\n",
    "    new_words = []\n",
    "    \n",
    "    # Transform word with IN infix and append the new word to new_words\n",
    "    for word in data:\n",
    "        # Apply vowel harmony rules first\n",
    "        harmonized_word = vowel_harmonized_word(word, vowels, vowel_harmony_rules)\n",
    "        # Transform the harmonized_word with the IN infix\n",
    "        new_word = infixed_word(harmonized_word, vowels, infix)\n",
    "        new_words.append((new_word, word, f\"{infix} infix\"))\n",
    "        \n",
    "    return new_words"
   ]
  },
  {
   "cell_type": "code",
   "execution_count": 133,
   "id": "315e3c55",
   "metadata": {},
   "outputs": [
    {
     "name": "stdout",
     "output_type": "stream",
     "text": [
      "[('hinanao', 'hånao', 'in infix'), (\"kinenne'\", \"konne'\", 'in infix'), ('tinaitai', 'taitai', 'in infix'), ('tinifong', 'tufong', 'in infix')]\n"
     ]
    }
   ],
   "source": [
    "### DELETE ME TEST CODE ###\n",
    "data = [\"hånao\", \"konne'\", \"taitai\", \"tufong\"]\n",
    "print(apply_in_infix(data, vowels, vowel_harmony_rules))"
   ]
  },
  {
   "cell_type": "markdown",
   "id": "ab55b09f",
   "metadata": {},
   "source": [
    "# PREFIXES"
   ]
  },
  {
   "cell_type": "markdown",
   "id": "d8ff0174",
   "metadata": {},
   "source": [
    "**About Chamorro Prefixes:** Prefixes in Chamorro are attached to the front of a base word, and one or more prefixes can be attached. Some prefixes require morphophonemic changes to the base word when attached."
   ]
  },
  {
   "cell_type": "markdown",
   "id": "97eb66aa",
   "metadata": {},
   "source": [
    "## Prefix Lists"
   ]
  },
  {
   "cell_type": "markdown",
   "id": "d2859962",
   "metadata": {},
   "source": [
    "We will create different lists of prefixes, excluding the man- prefixes because those require more changes to the base word to be applied. Lists are organized by the part-of-speech of base word they can be attached to, and include single prefixes and known combinations of prefixes."
   ]
  },
  {
   "cell_type": "code",
   "execution_count": 144,
   "id": "81b7bef9",
   "metadata": {},
   "outputs": [],
   "source": [
    "# Create a list of prefixes for transitive verbs\n",
    "transitive_verb_prefixes = [\n",
    "    \"án\", \"fa'\", \"á\", \"umá\", \"maná\", \"acha\", \"ma'acha\", \"fanma'acha\", \n",
    "    \"ké\", \"kéke\",  \"na'\", \"muna'\", \"nina'\", \"mannina'\", \"fannina'\", \"manna'\", \"fanna'\",\n",
    "    \"ma\", \"manma\", \"fanma\" \n",
    "]\n",
    "\n",
    "# Create a list of prefixes for nouns\n",
    "noun_prefixes = [\"gai\", \"tai\", \"an\", \"mi\", \"é\", \"fa'\", \"mama'\", \"fama'\", \"ga'\", \"pinat\"]\n",
    "\n",
    "# Create a list of prefixes for adjectives\n",
    "adjective_prefixes = [\"chat\", \"fa'\", \"há\", \"lá\", \"pinat\", \"na'\", \"ná\", \"acha\", \"na'lá\"]\n",
    "\n",
    "# Create a list of the directional prefixes\n",
    "directional_prefixes = [\"gé\", \"hat\", \"san\", \"tak\", \"talak\", \"ya\"]"
   ]
  },
  {
   "cell_type": "code",
   "execution_count": 23,
   "id": "56a0dc1e",
   "metadata": {},
   "outputs": [],
   "source": [
    "### DELETE ME: PREFIX NOTES ###\n",
    "# combos é+um, é+man, ga+um+verb, ga+indef man-, ha+ma+trans verb\n",
    "# vowel lowering or harmony required for fa', ge', hat, san, tak, talak\n",
    "# vowel harmony required for gai, tai, mi"
   ]
  },
  {
   "cell_type": "markdown",
   "id": "0b1d1e43",
   "metadata": {},
   "source": [
    "## Create Prefixed Word"
   ]
  },
  {
   "cell_type": "code",
   "execution_count": 145,
   "id": "33ab0ced",
   "metadata": {},
   "outputs": [],
   "source": [
    "def prefixed_word(word, prefix, vowels):\n",
    "    \"\"\"\n",
    "    Transform a word by attaching a prefix to the front, and returning the new, transformed word.\n",
    "    \"\"\"\n",
    "    # Apply prefix\n",
    "    if word[0] in vowels and prefix[-1] in vowels:\n",
    "        new_word = prefix + \"\"\"'\"\"\" + word\n",
    "    else:\n",
    "        new_word = prefix + word\n",
    "    \n",
    "    return new_word"
   ]
  },
  {
   "cell_type": "code",
   "execution_count": 146,
   "id": "8dd38e6b",
   "metadata": {},
   "outputs": [
    {
     "name": "stdout",
     "output_type": "stream",
     "text": [
      "manli'e'\n"
     ]
    }
   ],
   "source": [
    "### DELETE ME TEST CODE ###\n",
    "word = \"li'e'\"\n",
    "prefix = \"man\"\n",
    "print(prefixed_word(word, prefix, vowels))"
   ]
  },
  {
   "cell_type": "markdown",
   "id": "a388a156",
   "metadata": {},
   "source": [
    "## Apply Prefix Transformations - Without Morphophonemic Changes"
   ]
  },
  {
   "cell_type": "code",
   "execution_count": 147,
   "id": "0023969d",
   "metadata": {},
   "outputs": [],
   "source": [
    "def apply_prefixes_no_morphophonemic_change(data, prefixes, vowels):\n",
    "    \"\"\"\n",
    "    Iterates through a list of words and prefixes and attaches each prefix to the front of each word.\n",
    "    Returns a list of tuples, where each tuple is the new word, the root word, and the prefix.\n",
    "    \"\"\"\n",
    "    # Initialize list to store new words\n",
    "    new_words = []\n",
    "    \n",
    "    # Apply prefixes\n",
    "    for prefix in prefixes:\n",
    "        for word in data:\n",
    "            new_word = prefixed_word(word, prefix, vowels)\n",
    "            new_words.append((new_word, word, f\"{prefix} prefix\"))\n",
    "            \n",
    "    return new_words"
   ]
  },
  {
   "cell_type": "code",
   "execution_count": 148,
   "id": "82037149",
   "metadata": {
    "scrolled": false
   },
   "outputs": [
    {
     "name": "stdout",
     "output_type": "stream",
     "text": [
      "[(\"ánkånno'\", \"kånno'\", 'án prefix'), (\"ánoppe'\", \"oppe'\", 'án prefix'), (\"fa'kånno'\", \"kånno'\", \"fa' prefix\"), (\"fa'oppe'\", \"oppe'\", \"fa' prefix\"), (\"ákånno'\", \"kånno'\", 'á prefix'), (\"á'oppe'\", \"oppe'\", 'á prefix'), (\"umákånno'\", \"kånno'\", 'umá prefix'), (\"umá'oppe'\", \"oppe'\", 'umá prefix'), (\"manákånno'\", \"kånno'\", 'maná prefix'), (\"maná'oppe'\", \"oppe'\", 'maná prefix'), (\"achakånno'\", \"kånno'\", 'acha prefix'), (\"acha'oppe'\", \"oppe'\", 'acha prefix'), (\"ma'achakånno'\", \"kånno'\", \"ma'acha prefix\"), (\"ma'acha'oppe'\", \"oppe'\", \"ma'acha prefix\"), (\"fanma'achakånno'\", \"kånno'\", \"fanma'acha prefix\"), (\"fanma'acha'oppe'\", \"oppe'\", \"fanma'acha prefix\"), (\"kékånno'\", \"kånno'\", 'ké prefix'), (\"ké'oppe'\", \"oppe'\", 'ké prefix'), (\"kékekånno'\", \"kånno'\", 'kéke prefix'), (\"kéke'oppe'\", \"oppe'\", 'kéke prefix'), (\"na'kånno'\", \"kånno'\", \"na' prefix\"), (\"na'oppe'\", \"oppe'\", \"na' prefix\"), (\"muna'kånno'\", \"kånno'\", \"muna' prefix\"), (\"muna'oppe'\", \"oppe'\", \"muna' prefix\"), (\"nina'kånno'\", \"kånno'\", \"nina' prefix\"), (\"nina'oppe'\", \"oppe'\", \"nina' prefix\"), (\"mannina'kånno'\", \"kånno'\", \"mannina' prefix\"), (\"mannina'oppe'\", \"oppe'\", \"mannina' prefix\"), (\"fannina'kånno'\", \"kånno'\", \"fannina' prefix\"), (\"fannina'oppe'\", \"oppe'\", \"fannina' prefix\"), (\"manna'kånno'\", \"kånno'\", \"manna' prefix\"), (\"manna'oppe'\", \"oppe'\", \"manna' prefix\"), (\"fanna'kånno'\", \"kånno'\", \"fanna' prefix\"), (\"fanna'oppe'\", \"oppe'\", \"fanna' prefix\"), (\"makånno'\", \"kånno'\", 'ma prefix'), (\"ma'oppe'\", \"oppe'\", 'ma prefix'), (\"manmakånno'\", \"kånno'\", 'manma prefix'), (\"manma'oppe'\", \"oppe'\", 'manma prefix'), (\"fanmakånno'\", \"kånno'\", 'fanma prefix'), (\"fanma'oppe'\", \"oppe'\", 'fanma prefix')]\n"
     ]
    }
   ],
   "source": [
    "### DELETE ME TEST CODE ###\n",
    "word_list = [\"kånno'\", \"oppe'\"]\n",
    "print(apply_prefixes_no_morphophonemic_change(word_list, transitive_verb_prefixes, vowels))"
   ]
  },
  {
   "cell_type": "markdown",
   "id": "1283b13f",
   "metadata": {},
   "source": [
    "## The Man- Prefix"
   ]
  },
  {
   "cell_type": "markdown",
   "id": "51412c19",
   "metadata": {},
   "source": [
    "The Man- Prefix in Chamorro can be applied to a wide variety of words. But it is set apart from other prefixes because it requires morphophonemic changes to the base word. This section includes the lists of the different man- prefixes and the rules for morphophonemic changes."
   ]
  },
  {
   "cell_type": "markdown",
   "id": "b2285af4",
   "metadata": {},
   "source": [
    "### Man- Prefix Rules"
   ]
  },
  {
   "cell_type": "code",
   "execution_count": 97,
   "id": "5fe10970",
   "metadata": {},
   "outputs": [],
   "source": [
    "# Create a list of man- prefixes\n",
    "man_prefixes = [\"man\", \"fan\"]\n",
    "\n",
    "# Create a dictionary of man- prefix rules\n",
    "man_prefix_rules = {\n",
    "    \"man\": {\"b\": \"mam\", \"c\": \"mañ\", \"f\": \"mam\", \"g\": \"mang\", \"k\": \"mang\", \"p\": \"mam\", \"s\": \"mañ\", \"t\": \"man\"},\n",
    "    \"fan\": {\"b\": \"fam\", \"c\": \"fañ\", \"f\": \"fam\", \"g\": \"fang\", \"k\": \"fang\", \"p\": \"fam\", \"s\": \"fañ\", \"t\": \"fan\"}\n",
    "}"
   ]
  },
  {
   "cell_type": "markdown",
   "id": "9bf18910",
   "metadata": {},
   "source": [
    "### Create Man- Prefixed Word"
   ]
  },
  {
   "cell_type": "code",
   "execution_count": 140,
   "id": "c3ba5802",
   "metadata": {},
   "outputs": [],
   "source": [
    "def apply_man_prefix(word, man_prefix_rules, prefix):\n",
    "    \"\"\"\n",
    "    Transforms a base word with the man- prefix and returns the transformed word\n",
    "    \"\"\"\n",
    "    first_letter = word[0]\n",
    "    \n",
    "    # If morphophonemic changes are needed, get the appropriate man- prefix\n",
    "    if first_letter in man_prefix_rules[prefix]:\n",
    "        man_prefix = man_prefix_rules[prefix][first_letter]\n",
    "        # If the word begins with \"c\", start slicing at position 2\n",
    "        if first_letter == \"c\":\n",
    "            new_word = man_prefix + word[2:]\n",
    "        else:\n",
    "            new_word = man_prefix + word[1:]\n",
    "    # For all other words, apply the prefix without any morphophonemic changes        \n",
    "    else:\n",
    "        new_word = prefix + word\n",
    "    \n",
    "    return new_word"
   ]
  },
  {
   "cell_type": "code",
   "execution_count": 142,
   "id": "240ce546",
   "metadata": {},
   "outputs": [
    {
     "name": "stdout",
     "output_type": "stream",
     "text": [
      "manaitai\n"
     ]
    }
   ],
   "source": [
    "### DELETE ME TEST CODE ###\n",
    "word = \"taitai\"\n",
    "word = apply_man_prefix(word, man_prefix_rules, \"man\")\n",
    "print(word)"
   ]
  },
  {
   "cell_type": "code",
   "execution_count": 143,
   "id": "d3fec4c5",
   "metadata": {},
   "outputs": [
    {
     "name": "stdout",
     "output_type": "stream",
     "text": [
      "fanaitai\n"
     ]
    }
   ],
   "source": [
    "### DELETE ME TEST CODE ###\n",
    "word = \"taitai\"\n",
    "word = apply_man_prefix(word, man_prefix_rules, \"fan\")\n",
    "print(word)"
   ]
  },
  {
   "cell_type": "markdown",
   "id": "5963c399",
   "metadata": {},
   "source": [
    "### Apply Single Man- Prefix Transformation"
   ]
  },
  {
   "cell_type": "code",
   "execution_count": 115,
   "id": "3da14766",
   "metadata": {},
   "outputs": [],
   "source": [
    "def apply_single_man_prefix(data, man_prefix_rules, prefixes):\n",
    "    \"\"\"\n",
    "    Transforms a list of words with the man- and fan- prefixes, outputting a list of tuples\n",
    "    Each tuple contains the new word, the base word, and the prefix name\n",
    "    \"\"\"\n",
    "    # Initialize new list to store new words\n",
    "    new_words = []\n",
    "    \n",
    "    # Apply the man- and fan- prefixes\n",
    "    for word in data:\n",
    "        for prefix in prefixes:\n",
    "            # Apply the man- prefix\n",
    "            new_word = apply_man_prefix(word, man_prefix_rules, prefix)\n",
    "            # Append to new_words\n",
    "            new_words.append((new_word, word, f\"{prefix} prefix\"))\n",
    "    \n",
    "    return new_words"
   ]
  },
  {
   "cell_type": "code",
   "execution_count": 116,
   "id": "0f70e3ca",
   "metadata": {},
   "outputs": [
    {
     "name": "stdout",
     "output_type": "stream",
     "text": [
      "[(\"mama'tinas\", \"fa'tinas\", 'man prefix'), (\"fama'tinas\", \"fa'tinas\", 'fan prefix')]\n"
     ]
    }
   ],
   "source": [
    "### DELETE ME TEST CODE ###\n",
    "word_list = [\"fa'tinas\"]\n",
    "new_words = apply_single_man_prefix(word_list, man_prefix_rules, man_prefixes)\n",
    "print(new_words)"
   ]
  },
  {
   "cell_type": "markdown",
   "id": "55af2fe3",
   "metadata": {},
   "source": [
    "### Apply Double Man- Prefix Transformation"
   ]
  },
  {
   "cell_type": "code",
   "execution_count": 113,
   "id": "8e26d37b",
   "metadata": {},
   "outputs": [],
   "source": [
    "def apply_double_man_prefixes(data, man_prefix_rules, prefixes):\n",
    "    \"\"\"\n",
    "    Transforms a list of words with the double man- prefix, outputting a list of tuples\n",
    "    First applies the single man- prefix, then applies the man- or fan-\n",
    "    Each tuple contains the new word, the base word, and the prefix name\n",
    "    \"\"\"\n",
    "    # Initialize list to store new words\n",
    "    new_words = []\n",
    "    \n",
    "    for word in data:\n",
    "        for prefix in prefixes:\n",
    "            # Apply the single man- prefix first\n",
    "            single_man_word = apply_man_prefix(word, man_prefix_rules, \"man\")\n",
    "            # Apply the second man- or fan-\n",
    "            new_word = prefix + single_man_word\n",
    "            # Store in new list\n",
    "            new_words.append((new_word, word, f\"{prefix}man prefix\"))\n",
    "            \n",
    "    return new_words"
   ]
  },
  {
   "cell_type": "code",
   "execution_count": 114,
   "id": "4f7de643",
   "metadata": {},
   "outputs": [
    {
     "name": "stdout",
     "output_type": "stream",
     "text": [
      "[(\"manmama'tinas\", \"fa'tinas\", 'manman prefix'), (\"fanmama'tinas\", \"fa'tinas\", 'fanman prefix')]\n"
     ]
    }
   ],
   "source": [
    "### DELETE ME TEST CODE ###\n",
    "word_list = [\"fa'tinas\"]\n",
    "new_words = apply_double_man_prefixes(word_list, man_prefix_rules, man_prefixes)\n",
    "print(new_words)"
   ]
  },
  {
   "cell_type": "markdown",
   "id": "9e2274d2",
   "metadata": {},
   "source": [
    "## Other Prefixes"
   ]
  },
  {
   "cell_type": "markdown",
   "id": "f73aaef0",
   "metadata": {},
   "source": [
    "Some prefixes require vowel lowering or vowel fronting to take place, which is similar to vowel harmony rules"
   ]
  },
  {
   "cell_type": "code",
   "execution_count": 100,
   "id": "f13a2339",
   "metadata": {},
   "outputs": [],
   "source": [
    "### FIX ME: Confirm all the prefixes that require vowel-lowering ###\n",
    "vowel_lowered_prefixes = [\"gé\", \"ké\"]"
   ]
  },
  {
   "cell_type": "code",
   "execution_count": 123,
   "id": "8249902f",
   "metadata": {},
   "outputs": [],
   "source": [
    "def apply_vowel_lowered_prefixes(data, prefixes, vowel_harmony_rules):\n",
    "    \"\"\"\n",
    "    Transforms words with prefixes that require vowel lowering and returns a list of tuples.\n",
    "    Each tuple contains the new word, the base word and the prefix name.\n",
    "    \"\"\"\n",
    "    ### FIX ME ###\n",
    "    \n",
    "    return None"
   ]
  },
  {
   "cell_type": "code",
   "execution_count": 122,
   "id": "a922fba2",
   "metadata": {},
   "outputs": [],
   "source": [
    "### DELETE ME TEST CODE ###"
   ]
  },
  {
   "cell_type": "markdown",
   "id": "2ac3f294",
   "metadata": {},
   "source": [
    "# Apply Suffixes"
   ]
  },
  {
   "cell_type": "markdown",
   "id": "0ccde097",
   "metadata": {},
   "source": [
    "**About Chamorro Suffixes:** Chamorro suffixes are attached to the end of a word, and sometimes they are preceded by a dash (-). All possessive pronouns are also included in this section as suffixes."
   ]
  },
  {
   "cell_type": "code",
   "execution_count": 149,
   "id": "6af21fab",
   "metadata": {},
   "outputs": [],
   "source": [
    "# Create possessive pronoun lists\n",
    "possessive_pronouns_one_syllable = [\"-hu\", \"-mu\", \"-ña\", \"-ta\"]\n",
    "possessive_pronouns_two_syllable = [\"-ñiha\", \"-miyu\", \"-måmi\", \"-ñíñiha\", \"-mímiyu\", \"-måmåmi\"]\n",
    "\n",
    "# Create a list of other suffixes\n",
    "### FIX ME: Confirm all suffixes ###\n",
    "directional_suffixes = [\"magi\", \"guatu\"]"
   ]
  },
  {
   "cell_type": "markdown",
   "id": "cd271e78",
   "metadata": {},
   "source": [
    "# Apply Circumfixes"
   ]
  },
  {
   "cell_type": "markdown",
   "id": "95f5d20c",
   "metadata": {},
   "source": [
    "**About Chamorro Circumfixes:** There is only one circumfix in Chamorro, with is the fan-...-an circumfix. Morphophonemic changes to the base word are usually required."
   ]
  },
  {
   "cell_type": "markdown",
   "id": "4a07fe8b",
   "metadata": {},
   "source": [
    "# Apply Reduplication"
   ]
  },
  {
   "cell_type": "markdown",
   "id": "0a27c9ca",
   "metadata": {},
   "source": [
    "In this section, we will be experimenting with different ways to transform words with reduplication. There are several forms of reduplication in Chamorro, and we will start with the most common ones, which is to reduplicate on the stressed syllable. To achive this, we will first split a word into syllables and then count the syllables. In general, the second to last syllable is the one that is reduplicated. We do this because spelling in Chamorro is not consistent, and we cannot always rely upon stressed characters to be in our data."
   ]
  },
  {
   "cell_type": "code",
   "execution_count": 159,
   "id": "bd21bb1e",
   "metadata": {},
   "outputs": [],
   "source": [
    "# def split_syllables(word):\n",
    "#     \"\"\"\n",
    "#     Splits a word into syllables in preparation for applying reduplication.\n",
    "#     We reduplicate the consonant and the vowels attached to it\n",
    "#     If the syllable ends in a consonant, don't repeat that last consonant\n",
    "#     If the syllable has two vowels, only repeat the first vowel\n",
    "#     But if they are vowel combos like ua, ue, ui, uo, we repeat the entire vowel combo\n",
    "#     \"\"\"\n",
    "#     # Match consonant(s) + vowel(s) + optional consonant(s), including glottal stops and diphthongs\n",
    "#     pattern = re.compile(r\"([bcdfghjklmnpqrstvwxyz]*[aeiouåáéíóú]*['])\", re.IGNORECASE)\n",
    "#     syllables = pattern.findall(word)\n",
    "#     syllable_count = len(syllables)-1\n",
    "#     return (syllables, syllable_count)"
   ]
  },
  {
   "cell_type": "markdown",
   "id": "d9cc170a",
   "metadata": {},
   "source": [
    "# Export to CSV"
   ]
  },
  {
   "cell_type": "markdown",
   "id": "69e8c2c7",
   "metadata": {},
   "source": [
    "We will take all the word lists from above and export them to CSV files."
   ]
  },
  {
   "cell_type": "code",
   "execution_count": 92,
   "id": "583d177e",
   "metadata": {},
   "outputs": [],
   "source": [
    "# def convert_to_dataframe(affixed_words):\n",
    "#     \"\"\"\n",
    "#     In this function, we convert our newly affixed words to a dataframe, and then export it to a CSV file.\n",
    "#     We will also include metadata from the original word list to our exported CSV file.\n",
    "#     \"\"\"\n",
    "#     # Get new words\n",
    "#     new_words = affixed_words[0]\n",
    "    \n",
    "#     # Get old words\n",
    "#     old_words = affixed_words[1]\n",
    "    \n",
    "#     # Get Affix Name\n",
    "#     affix_name = affixed_words[0][0][2]\n",
    "    \n",
    "#     # Convert list to dataframe\n",
    "#     infixed_words_df = pd.DataFrame(new_words, columns=[\"Word\", \"Term\", \"Affix\"])\n",
    "#     # Add the original Definition and Root Word to the infixed words df\n",
    "#     filtered_df = old_words[[\"Term\", \"Definition\", \"Root Word\"]]\n",
    "#     infixed_words_df = pd.merge(infixed_words_df, filtered_df, on=\"Term\", how=\"left\")\n",
    "    \n",
    "#     # Save dataframe as CSV\n",
    "#     infixed_words_df.to_csv(f\"{affix_name}_affixed_words.csv\", index=False, encoding=\"utf-8\")"
   ]
  },
  {
   "cell_type": "code",
   "execution_count": 99,
   "id": "daf44c31",
   "metadata": {},
   "outputs": [],
   "source": [
    "# # TEST Pass thru the convert_to_dataframe function\n",
    "# infixed_words = [um_infixed_words, in_infixed_words]\n",
    "\n",
    "# for output in infixed_words:\n",
    "#     convert_to_dataframe(output)"
   ]
  }
 ],
 "metadata": {
  "kernelspec": {
   "display_name": "Python 3 (ipykernel)",
   "language": "python",
   "name": "python3"
  },
  "language_info": {
   "codemirror_mode": {
    "name": "ipython",
    "version": 3
   },
   "file_extension": ".py",
   "mimetype": "text/x-python",
   "name": "python",
   "nbconvert_exporter": "python",
   "pygments_lexer": "ipython3",
   "version": "3.11.7"
  }
 },
 "nbformat": 4,
 "nbformat_minor": 5
}
