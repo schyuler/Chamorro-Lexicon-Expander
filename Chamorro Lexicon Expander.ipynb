{
 "cells": [
  {
   "cell_type": "markdown",
   "id": "45da0500",
   "metadata": {},
   "source": [
    "# Chamorro Lexicon Expander"
   ]
  },
  {
   "cell_type": "markdown",
   "id": "9ddbf814",
   "metadata": {},
   "source": [
    "**Chamorro Lexicon Expander** is a Python project designed to expand the Chamorro-English dictionary by generating all possible affixed variations of Chamorro root words. This tool automates the process of creating word forms using common Chamorro prefixes, suffixes, and infixes according to linguistic rules. This project enables a more comprehensive representation of Chamorro vocabulary for language learners, linguists, and dictionary development."
   ]
  },
  {
   "cell_type": "markdown",
   "id": "77d37b60",
   "metadata": {},
   "source": [
    "**Name:** Schyuler Lujan <br>\n",
    "**Date Started:** 10-Nov-2024 <br>\n",
    "**Date Complete:** In Progress <br>"
   ]
  },
  {
   "cell_type": "code",
   "execution_count": 20,
   "id": "817ed91a",
   "metadata": {},
   "outputs": [],
   "source": [
    "# Import libraries\n",
    "import re\n",
    "import pandas as pd\n",
    "import csv"
   ]
  },
  {
   "cell_type": "markdown",
   "id": "c1683094",
   "metadata": {},
   "source": [
    "# Import and Clean Data"
   ]
  },
  {
   "cell_type": "markdown",
   "id": "e995e9d5",
   "metadata": {},
   "source": [
    "**About this data:** For this project, we will be using the words and part-of-speech tags from the Revised Chamorro-English dictionary, which is available for free at https://natibunmarianas.org/chamorro-dictionary/. We will be using this data because it is currently the only freely available resource online with the most complete and reliably accurate part-of-speech tags on Chamorro words. Part-of-speech tags will determine which words can be transformed with the different affixes."
   ]
  },
  {
   "cell_type": "code",
   "execution_count": 21,
   "id": "c69f99be",
   "metadata": {},
   "outputs": [],
   "source": [
    "# Import files and convert to dataframes\n",
    "tverbs_df = pd.read_csv(\"transitive-verbs.csv\", encoding=\"utf-8\")\n",
    "iverbs_df = pd.read_csv(\"intransitive-verbs.csv\", encoding=\"utf-8\")"
   ]
  },
  {
   "cell_type": "code",
   "execution_count": 22,
   "id": "ffb2f160",
   "metadata": {},
   "outputs": [],
   "source": [
    "# Preview dataframe\n",
    "#tverbs_df.head()"
   ]
  },
  {
   "cell_type": "markdown",
   "id": "fb936299",
   "metadata": {},
   "source": [
    "# Define linguistic rules"
   ]
  },
  {
   "cell_type": "markdown",
   "id": "b779cb85",
   "metadata": {},
   "source": [
    "To properly apply the different affixes, we will need to define the following in order to properly apply linguistic rules: <p>\n",
    "    * Chamorro vowels <br>\n",
    "    * Chamorro vowel harmony rules <br>\n",
    "    * Man- Prefix rules <p>"
   ]
  },
  {
   "cell_type": "code",
   "execution_count": 95,
   "id": "ed327f83",
   "metadata": {},
   "outputs": [],
   "source": [
    "# Create a list of vowels to search for in the words - to be used for infixes and some prefixes\n",
    "vowel_list = ['a', 'á', 'å', 'e', 'é', 'i', 'í', 'o', 'ó', 'u']"
   ]
  },
  {
   "cell_type": "code",
   "execution_count": 24,
   "id": "34f7690e",
   "metadata": {},
   "outputs": [],
   "source": [
    "# Create a dictionary of vowel harmony rules - to be used for infixes and some prefixes\n",
    "vowel_harmony_dict = {\"å\": \"a\", \"o\": \"e\", \"u\": \"i\"}"
   ]
  },
  {
   "cell_type": "code",
   "execution_count": 96,
   "id": "1057edfa",
   "metadata": {},
   "outputs": [],
   "source": [
    "# FIXME Create a dictionary of man- prefix rules"
   ]
  },
  {
   "cell_type": "code",
   "execution_count": 97,
   "id": "eb33890b",
   "metadata": {},
   "outputs": [],
   "source": [
    "# FIXME Create a list of possessive pronouns - to be used for applying pronoun suffixes"
   ]
  },
  {
   "cell_type": "markdown",
   "id": "f57c3a2c",
   "metadata": {},
   "source": [
    "# Apply Infixes"
   ]
  },
  {
   "cell_type": "markdown",
   "id": "f272ffb9",
   "metadata": {},
   "source": [
    "**About Chamorro Infixes:** Infixes are affixes that occur within the word, rather than being attached in front of the word or at the end. In Chamorro, infixes are always applied before the first vowel of the word they are attached to. If the word it's being attached to starts with a vowel, the infix is still placed in front of that vowel. There are two infixes in Chamorro: -in- and -um-."
   ]
  },
  {
   "cell_type": "code",
   "execution_count": 82,
   "id": "b720aa8f",
   "metadata": {},
   "outputs": [],
   "source": [
    "def um_infixes(df, vowels, vowel_harmony):\n",
    "    \"\"\"\n",
    "    In this function, we apply the UM Infix to words by finding the first vowel in the word and inserting the string\n",
    "    \"um\" in front of that first vowel. The function will return a list of tuples with the (new word, old word, affix name)\n",
    "    \"\"\"\n",
    "    \n",
    "    # Get the terms and convert dataframe to a list\n",
    "    original_word_list = df[\"Term\"].tolist()\n",
    "    \n",
    "    # Define the infix and infix name\n",
    "    infix = \"um\"\n",
    "    infix_name = \"UM Infix\"\n",
    "    \n",
    "    # Initialize list to store new words\n",
    "    infixed_words = []\n",
    "    \n",
    "    # Affix words with -um- and append to list, with other metadata\n",
    "    for word in original_word_list:\n",
    "        for letter in word:\n",
    "            if letter in vowels:\n",
    "                i = word.index(letter) # Get vowel's index\n",
    "                um_word = word[0:i]+infix+word[i:] # Add the infix before vowel\n",
    "                infixed_words.append((um_word, word, infix_name))\n",
    "                break\n",
    "    \n",
    "    return infixed_words, df"
   ]
  },
  {
   "cell_type": "code",
   "execution_count": 98,
   "id": "024501cb",
   "metadata": {},
   "outputs": [],
   "source": [
    "def in_infixes(df, vowels, vowel_harmony):\n",
    "    \"\"\"\n",
    "    In this function, we apply the In Infix to words by finding the first vowel in the word, determining if vowel harmony\n",
    "    transformation rules must apply, and then adding the affix.\n",
    "    \"\"\"\n",
    "    \n",
    "    # Get the terms and convert dataframe to a list\n",
    "    word_list = df[\"Term\"].tolist()\n",
    "    \n",
    "    # Define the infix and infix name\n",
    "    infix = \"in\"\n",
    "    infix_name = \"In Infix\"\n",
    "    \n",
    "    # Initialize list to store new words\n",
    "    infixed_words = []\n",
    "                \n",
    "    # Affix words with -in- and append it to the list\n",
    "    for word in word_list:\n",
    "        for letter in word:\n",
    "            i = word.index(letter)\n",
    "            if letter in vowel_harmony_dict:\n",
    "                harmonized_word = word.replace(letter, vowel_harmony_dict[letter], 1) # Apply vowel harmony\n",
    "                in_word = harmonized_word[0:i]+infix+harmonized_word[i:] # Infix vowel harmonized word\n",
    "                infixed_words.append((in_word, word, infix_name))\n",
    "                break\n",
    "            elif letter in vowels:\n",
    "                in_word = word[0:i]+infix+word[i:] # Infix without vowel harmony\n",
    "                infixed_words.append((in_word, word, infix_name))\n",
    "                break\n",
    "    \n",
    "    return infixed_words, df"
   ]
  },
  {
   "cell_type": "code",
   "execution_count": 93,
   "id": "36df7d40",
   "metadata": {},
   "outputs": [],
   "source": [
    "# Pass the dataframe, vowel list, and vowel harmony dictionary\n",
    "um_infixed_words = um_infixes(tverbs_df, vowel_list, vowel_harmony_dict)\n",
    "in_infixed_words = in_infixes(tverbs_df, vowel_list, vowel_harmony_dict)"
   ]
  },
  {
   "cell_type": "markdown",
   "id": "ab55b09f",
   "metadata": {},
   "source": [
    "# Apply Prefixes"
   ]
  },
  {
   "cell_type": "markdown",
   "id": "d8ff0174",
   "metadata": {},
   "source": [
    "**About Chamorro Prefixes:** "
   ]
  },
  {
   "cell_type": "markdown",
   "id": "2ac3f294",
   "metadata": {},
   "source": [
    "# Apply Suffixes"
   ]
  },
  {
   "cell_type": "markdown",
   "id": "0ccde097",
   "metadata": {},
   "source": [
    "**About Chamorro Suffixes:**"
   ]
  },
  {
   "cell_type": "markdown",
   "id": "cd271e78",
   "metadata": {},
   "source": [
    "# Apply Circumfixes"
   ]
  },
  {
   "cell_type": "markdown",
   "id": "95f5d20c",
   "metadata": {},
   "source": [
    "**About Chamorro Circumfixes:**"
   ]
  },
  {
   "cell_type": "markdown",
   "id": "d9cc170a",
   "metadata": {},
   "source": [
    "# Export to CSV"
   ]
  },
  {
   "cell_type": "markdown",
   "id": "69e8c2c7",
   "metadata": {},
   "source": [
    "We will take all the word lists from above and export them to CSV files."
   ]
  },
  {
   "cell_type": "code",
   "execution_count": 92,
   "id": "583d177e",
   "metadata": {},
   "outputs": [],
   "source": [
    "def convert_to_dataframe(affixed_words):\n",
    "    \"\"\"\n",
    "    In this function, we convert our newly affixed words to a dataframe, and then export it to a CSV file.\n",
    "    We will also include metadata from the original word list to our exported CSV file.\n",
    "    \"\"\"\n",
    "    # Get new words\n",
    "    new_words = affixed_words[0]\n",
    "    \n",
    "    # Get old words\n",
    "    old_words = affixed_words[1]\n",
    "    \n",
    "    # Get Affix Name\n",
    "    affix_name = affixed_words[0][0][2]\n",
    "    \n",
    "    # Convert list to dataframe\n",
    "    infixed_words_df = pd.DataFrame(new_words, columns=[\"Word\", \"Term\", \"Affix\"])\n",
    "    # Add the original Definition and Root Word to the infixed words df\n",
    "    filtered_df = old_words[[\"Term\", \"Definition\", \"Root Word\"]]\n",
    "    infixed_words_df = pd.merge(infixed_words_df, filtered_df, on=\"Term\", how=\"left\")\n",
    "    \n",
    "    # Save dataframe as CSV\n",
    "    infixed_words_df.to_csv(f\"{affix_name}_affixed_words.csv\", index=False, encoding=\"utf-8\")"
   ]
  },
  {
   "cell_type": "code",
   "execution_count": 99,
   "id": "daf44c31",
   "metadata": {},
   "outputs": [],
   "source": [
    "# TEST Pass thru the convert_to_dataframe function\n",
    "infixed_words = [um_infixed_words, in_infixed_words]\n",
    "\n",
    "for output in infixed_words:\n",
    "    convert_to_dataframe(output)"
   ]
  }
 ],
 "metadata": {
  "kernelspec": {
   "display_name": "Python 3 (ipykernel)",
   "language": "python",
   "name": "python3"
  },
  "language_info": {
   "codemirror_mode": {
    "name": "ipython",
    "version": 3
   },
   "file_extension": ".py",
   "mimetype": "text/x-python",
   "name": "python",
   "nbconvert_exporter": "python",
   "pygments_lexer": "ipython3",
   "version": "3.11.7"
  }
 },
 "nbformat": 4,
 "nbformat_minor": 5
}
