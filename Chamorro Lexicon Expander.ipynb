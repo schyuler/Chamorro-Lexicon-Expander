{
 "cells": [
  {
   "cell_type": "markdown",
   "id": "45da0500",
   "metadata": {},
   "source": [
    "# Chamorro Lexicon Expander"
   ]
  },
  {
   "cell_type": "markdown",
   "id": "9ddbf814",
   "metadata": {},
   "source": [
    "**Chamorro Lexicon Expander** is a Python project designed to expand the Chamorro-English dictionary by generating all possible affixed variations of Chamorro root words. This tool automates the process of creating word forms using common Chamorro prefixes, suffixes, and infixes according to linguistic rules. This project enables a more comprehensive representation of Chamorro vocabulary for language learners, linguists, and dictionary development."
   ]
  },
  {
   "cell_type": "markdown",
   "id": "77d37b60",
   "metadata": {},
   "source": [
    "**Name:** Schyuler Lujan <br>\n",
    "**Date Started:** 10-Nov-2024 <br>\n",
    "**Date Complete:** In Progress <br>"
   ]
  },
  {
   "cell_type": "code",
   "execution_count": 1,
   "id": "817ed91a",
   "metadata": {},
   "outputs": [],
   "source": [
    "# Import libraries\n",
    "import re\n",
    "import pandas as pd\n",
    "import csv"
   ]
  },
  {
   "cell_type": "markdown",
   "id": "c1683094",
   "metadata": {},
   "source": [
    "# IMPORT AND CLEAN DATA"
   ]
  },
  {
   "cell_type": "markdown",
   "id": "e995e9d5",
   "metadata": {},
   "source": [
    "**About this data:** For this project, we will be using the words and part-of-speech tags from the Revised Chamorro-English dictionary, which is available for free at https://natibunmarianas.org/chamorro-dictionary/. We will be using this data because it is currently the only freely available resource online with the most complete and reliably accurate part-of-speech tags on Chamorro words. Part-of-speech tags will determine which words can be transformed with the different affixes."
   ]
  },
  {
   "cell_type": "code",
   "execution_count": 2,
   "id": "c69f99be",
   "metadata": {},
   "outputs": [],
   "source": [
    "# Import files and convert to dataframes\n",
    "# tverbs_df = pd.read_csv(\"transitive-verbs.csv\", encoding=\"utf-8\")\n",
    "# iverbs_df = pd.read_csv(\"intransitive-verbs.csv\", encoding=\"utf-8\")"
   ]
  },
  {
   "cell_type": "code",
   "execution_count": 3,
   "id": "ffb2f160",
   "metadata": {},
   "outputs": [],
   "source": [
    "# Preview dataframe\n",
    "#tverbs_df.head()"
   ]
  },
  {
   "cell_type": "markdown",
   "id": "91fdd247",
   "metadata": {},
   "source": [
    "# VOWEL HARMONY"
   ]
  },
  {
   "cell_type": "markdown",
   "id": "59449c7d",
   "metadata": {},
   "source": [
    "**About Vowel Harmony:** In Chamorro, vowel harmony refers to how certain vowels must change into different vowels, depending upon the vowel that comes before it. In general, the vowels \"å\", \"o\", and \"e\" must shift if they are preceded by an \"i\"."
   ]
  },
  {
   "cell_type": "markdown",
   "id": "d101f494",
   "metadata": {},
   "source": [
    "## Vowel Harmony Rules"
   ]
  },
  {
   "cell_type": "code",
   "execution_count": 109,
   "id": "ed327f83",
   "metadata": {},
   "outputs": [],
   "source": [
    "# Create a list of vowels that need to be transformed by vowel harmony\n",
    "vowels = ['a', 'á', 'å', 'e', 'é', 'i', 'í', 'o', 'ó', 'u']"
   ]
  },
  {
   "cell_type": "code",
   "execution_count": 368,
   "id": "34f7690e",
   "metadata": {},
   "outputs": [],
   "source": [
    "# Create a dictionary of vowel harmony transformation rules\n",
    "vowel_harmony_rules = {\"å\": \"a\", \"o\": \"e\", \"u\": \"i\"}"
   ]
  },
  {
   "cell_type": "markdown",
   "id": "4e9921bd",
   "metadata": {},
   "source": [
    "## Create Vowel Harmonized Word"
   ]
  },
  {
   "cell_type": "code",
   "execution_count": 379,
   "id": "c2ce1bcf",
   "metadata": {},
   "outputs": [],
   "source": [
    "def vowel_harmonized_word(word, vowels, vowel_harmony_rules):\n",
    "    \"\"\"\n",
    "    Transforms a word to apply vowel harmony rules and returns the vowel harmonized word\n",
    "    \"\"\"\n",
    "    for i in range(len(word)):\n",
    "        letter = word[i]\n",
    "        next_letter = word[i + 1]\n",
    "        if letter in vowels and next_letter in vowels:\n",
    "            break\n",
    "        elif letter in vowel_harmony_rules:\n",
    "            new_word = word.replace(letter, vowel_harmony_rules[letter], 1)\n",
    "        else:\n",
    "            new_word = word\n",
    "        break # Stop iteration after first vowel\n",
    "    \n",
    "    return new_word"
   ]
  },
  {
   "cell_type": "code",
   "execution_count": 378,
   "id": "69d0c1ed",
   "metadata": {},
   "outputs": [
    {
     "name": "stdout",
     "output_type": "stream",
     "text": [
      "kuentus\n"
     ]
    }
   ],
   "source": [
    "### DELETE ME TEST CODE ###\n",
    "word = \"kuentus\"\n",
    "print(vowel_harmonized_word(word, vowels, vowel_harmony_rules))"
   ]
  },
  {
   "cell_type": "markdown",
   "id": "f57c3a2c",
   "metadata": {},
   "source": [
    "# INFIXES"
   ]
  },
  {
   "cell_type": "markdown",
   "id": "f272ffb9",
   "metadata": {},
   "source": [
    "**About Chamorro Infixes:** Infixes are affixes that occur within the word, rather than being attached in front of the word or at the end. In Chamorro, infixes are always applied before the first vowel of the word they are attached to. If the word it's being attached to starts with a vowel, the infix is still placed in front of that vowel. There are two infixes in Chamorro: -in- and -um-."
   ]
  },
  {
   "cell_type": "markdown",
   "id": "82bbf748",
   "metadata": {},
   "source": [
    "## Apply Infix"
   ]
  },
  {
   "cell_type": "code",
   "execution_count": 244,
   "id": "f68ff06a",
   "metadata": {},
   "outputs": [],
   "source": [
    "def apply_infix(word, vowels, infix):\n",
    "    \"\"\"\n",
    "    Transforms a word with an infix and returns the infixed word.\n",
    "    \n",
    "    Parameters:\n",
    "    - word: A word to transform\n",
    "    - vowels: A list of vowels to search for in the word\n",
    "    - infix: The infix we are transforming the word with\n",
    "    \n",
    "    Returns:\n",
    "    - A new word, which has been transformed by the infix\n",
    "    \"\"\"\n",
    "    \n",
    "    for letter in word:\n",
    "        if letter in vowels:\n",
    "            i = word.index(letter) # Get vowel's index\n",
    "            new_word = word[0:i]+infix+word[i:] # Add the infix before vowel\n",
    "            break # Stop iteration after first vowel\n",
    "    \n",
    "    return new_word"
   ]
  },
  {
   "cell_type": "markdown",
   "id": "6b1d6416",
   "metadata": {},
   "source": [
    "## Apply UM Infix Transformation"
   ]
  },
  {
   "cell_type": "code",
   "execution_count": 247,
   "id": "65983ca2",
   "metadata": {},
   "outputs": [],
   "source": [
    "def apply_um_infix(word):\n",
    "    \"\"\"\n",
    "    Transforms a word with the UM infix.\n",
    "    \"\"\"\n",
    "    infix = \"um\"\n",
    "    \n",
    "    new_word = apply_infix(word, vowels, infix)\n",
    "    \n",
    "    return new_word"
   ]
  },
  {
   "cell_type": "markdown",
   "id": "f980ed3e",
   "metadata": {},
   "source": [
    "## Apply IN Infix Transformation"
   ]
  },
  {
   "cell_type": "code",
   "execution_count": 256,
   "id": "47c45c28",
   "metadata": {},
   "outputs": [],
   "source": [
    "def apply_in_infix(word, vowels, vowel_harmony_rules):\n",
    "    \"\"\"\n",
    "    Iterates through a list of words and applies the IN Infix.\n",
    "    Vowel harmony rules must also be applied with the IN infix transformation.\n",
    "    \"\"\"\n",
    "    # Define the infix\n",
    "    infix = \"in\"\n",
    "    \n",
    "    # Aply vowel harmony rules first\n",
    "    harmonized_word = vowel_harmonized_word(word, vowels, vowel_harmony_rules)\n",
    "    # Transform the harmonized_word with the IN infix\n",
    "    new_word = apply_infix(harmonized_word, vowels, infix)\n",
    "        \n",
    "    return new_word"
   ]
  },
  {
   "cell_type": "markdown",
   "id": "ab55b09f",
   "metadata": {},
   "source": [
    "# PREFIXES"
   ]
  },
  {
   "cell_type": "markdown",
   "id": "d8ff0174",
   "metadata": {},
   "source": [
    "**About Chamorro Prefixes:** Prefixes in Chamorro are attached to the front of a base word, and one or more prefixes can be attached. Some prefixes require morphophonemic changes to the base word when attached."
   ]
  },
  {
   "cell_type": "markdown",
   "id": "97eb66aa",
   "metadata": {},
   "source": [
    "## Prefix Lists"
   ]
  },
  {
   "cell_type": "markdown",
   "id": "d2859962",
   "metadata": {},
   "source": [
    "We will create different lists of prefixes, excluding the man- prefixes because those require more changes to the base word to be applied. Lists are organized by the part-of-speech of base word they can be attached to, and include single prefixes and known combinations of prefixes."
   ]
  },
  {
   "cell_type": "code",
   "execution_count": 384,
   "id": "81b7bef9",
   "metadata": {},
   "outputs": [],
   "source": [
    "### FIX ME: Organize Prefix by Vowel or Consonant Changes ###\n",
    "\n",
    "# Create a list of prefixes for transitive verbs\n",
    "transitive_verb_prefixes = [\n",
    "    \"án\", \"fa'\", \"á\", \"umá\", \"maná\", \"acha\", \"ma'acha\", \"fanma'acha\", \n",
    "    \"ké\", \"kéke\",  \"na'\", \"muna'\", \"nina'\", \"mannina'\", \"fannina'\", \"manna'\", \"fanna'\",\n",
    "    \"ma\", \"manma\", \"fanma\" \n",
    "]\n",
    "\n",
    "# Create a list of prefixes for nouns\n",
    "noun_prefixes = [\"gai\", \"tai\", \"an\", \"mi\", \"é\", \"fa'\", \"mama'\", \"fama'\", \"ga'\", \"pinat\"]\n",
    "\n",
    "# Create a list of prefixes for adjectives\n",
    "adjective_prefixes = [\"chat\", \"fa'\", \"há\", \"lá\", \"pinat\", \"na'\", \"ná\", \"acha\", \"na'lá\"]\n",
    "\n",
    "# Create a list of the directional prefixes\n",
    "directional_prefixes = [\"gé\", \"hat\", \"san\", \"tak\", \"talak\", \"ya\"]\n",
    "\n",
    "### MORE PREFIXES GO HERE ###\n",
    "# combos é+um, é+man, ga+um+verb, ga+indef man-, ha+ma+trans verb\n",
    "# vowel lowering or harmony required for fa', ge', hat, san, tak, talak\n",
    "# vowel harmony required for gai, tai, mi"
   ]
  },
  {
   "cell_type": "code",
   "execution_count": null,
   "id": "443371d8",
   "metadata": {},
   "outputs": [],
   "source": []
  },
  {
   "cell_type": "markdown",
   "id": "0b1d1e43",
   "metadata": {},
   "source": [
    "## Apply Prefix Transformation"
   ]
  },
  {
   "cell_type": "code",
   "execution_count": 264,
   "id": "33ab0ced",
   "metadata": {},
   "outputs": [],
   "source": [
    "def apply_prefix(word, prefix, vowels):\n",
    "    \"\"\"\n",
    "    Transform a word by attaching a prefix to the front, and returning the new, transformed word.\n",
    "    \"\"\"\n",
    "    # Apply prefix\n",
    "    if word[0] in vowels and prefix[-1] in vowels:\n",
    "        new_word = prefix + \"\"\"'\"\"\" + word\n",
    "    else:\n",
    "        new_word = prefix + word\n",
    "    \n",
    "    return new_word"
   ]
  },
  {
   "cell_type": "markdown",
   "id": "1283b13f",
   "metadata": {},
   "source": [
    "## The Man- Prefix"
   ]
  },
  {
   "cell_type": "markdown",
   "id": "51412c19",
   "metadata": {},
   "source": [
    "The Man- Prefix in Chamorro can be applied to a wide variety of words. But it is set apart from other prefixes because it requires morphophonemic changes to the base word. This section includes the lists of the different man- prefixes and the rules for morphophonemic changes."
   ]
  },
  {
   "cell_type": "markdown",
   "id": "b2285af4",
   "metadata": {},
   "source": [
    "### Man- Prefix Rules"
   ]
  },
  {
   "cell_type": "code",
   "execution_count": 331,
   "id": "47e89e43",
   "metadata": {},
   "outputs": [],
   "source": [
    "# Create a list of man- prefixes\n",
    "man_prefixes = [\"man\", \"fan\"]\n",
    "\n",
    "# Create a dictionary of man- prefix rules\n",
    "man_prefix_rules = {\n",
    "    \"man\": {\"b\": \"mam\", \"c\": \"mañ\", \"f\": \"mam\", \"g\": \"mang\", \"k\": \"mang\", \"p\": \"mam\", \"s\": \"mañ\", \"t\": \"man\"},\n",
    "    \"fan\": {\"b\": \"fam\", \"c\": \"fañ\", \"f\": \"fam\", \"g\": \"fang\", \"k\": \"fang\", \"p\": \"fam\", \"s\": \"fañ\", \"t\": \"fan\"}\n",
    "}"
   ]
  },
  {
   "cell_type": "markdown",
   "id": "9bf18910",
   "metadata": {},
   "source": [
    "### Apply Single Man- Prefix"
   ]
  },
  {
   "cell_type": "code",
   "execution_count": 332,
   "id": "cc5a63c5",
   "metadata": {},
   "outputs": [],
   "source": [
    "def apply_man_prefix(word, man_prefix_rules, prefix):\n",
    "    \"\"\"\n",
    "    Transforms a base word with the man- prefix and returns the transformed word\n",
    "    \"\"\"\n",
    "    # Get the first letter of the word, which determines the prefix used\n",
    "    first_letter = word[0]\n",
    "    \n",
    "    # If morphophonemic changes are needed, get the appropriate man- prefix\n",
    "    if first_letter in man_prefix_rules[prefix]:\n",
    "        man_prefix = man_prefix_rules[prefix][first_letter]\n",
    "        # If the word begins with \"c\", start slicing at position 2\n",
    "        if first_letter == \"c\":\n",
    "            new_word = man_prefix + word[2:]\n",
    "        else:\n",
    "            new_word = man_prefix + word[1:]\n",
    "    # For all other words, apply the prefix without any morphophonemic changes        \n",
    "    else:\n",
    "        new_word = prefix + word\n",
    "    \n",
    "    return new_word"
   ]
  },
  {
   "cell_type": "code",
   "execution_count": 346,
   "id": "6610a004",
   "metadata": {},
   "outputs": [],
   "source": [
    "def apply_fan_prefix(word, man_prefix_rules, prefix):\n",
    "    new_word = apply_man_prefix(word, man_prefix_rules, \"fan\")\n",
    "    return new_word"
   ]
  },
  {
   "cell_type": "markdown",
   "id": "0a949bdf",
   "metadata": {},
   "source": [
    "### Apply Double Man- Prefix"
   ]
  },
  {
   "cell_type": "code",
   "execution_count": 333,
   "id": "b0f2e807",
   "metadata": {},
   "outputs": [],
   "source": [
    "def apply_double_man_prefix(word, man_prefix_rules, prefix):\n",
    "    \"\"\"\n",
    "    Transforms a word with the double man- prefix and returns the transformed word.\n",
    "    \"\"\"   \n",
    "    # Transform word with the single man- prefix\n",
    "    single_man_word = apply_man_prefix(word, man_prefix_rules, \"man\")\n",
    "    \n",
    "    # Apply the second man- or fan-\n",
    "    new_word = prefix + single_man_word\n",
    "            \n",
    "    return new_word"
   ]
  },
  {
   "cell_type": "code",
   "execution_count": 347,
   "id": "d68c8b6b",
   "metadata": {},
   "outputs": [],
   "source": [
    "def apply_double_man_prefix_f(word, man_prefix_rules, prefix):\n",
    "    new_word = apply_double_man_prefix(word, man_prefix_rules, \"fan\")\n",
    "    return new_word"
   ]
  },
  {
   "cell_type": "markdown",
   "id": "9e2274d2",
   "metadata": {},
   "source": [
    "## Apply Vowel Lowering Prefixes"
   ]
  },
  {
   "cell_type": "markdown",
   "id": "f73aaef0",
   "metadata": {},
   "source": [
    "Some prefixes require vowel lowering or vowel fronting to take place, which is similar to vowel harmony rules"
   ]
  },
  {
   "cell_type": "code",
   "execution_count": 355,
   "id": "f13a2339",
   "metadata": {},
   "outputs": [],
   "source": [
    "### FIX ME: Confirm all the prefixes that require vowel-lowering ###"
   ]
  },
  {
   "cell_type": "code",
   "execution_count": 356,
   "id": "8249902f",
   "metadata": {},
   "outputs": [],
   "source": [
    "def apply_vowel_lowered_prefixes(data, prefixes, vowel_harmony_rules):\n",
    "    \"\"\"\n",
    "    Transforms words with prefixes that require vowel lowering and returns a list of tuples.\n",
    "    Each tuple contains the new word, the base word and the prefix name.\n",
    "    \"\"\"\n",
    "    ### FIX ME ###\n",
    "    \n",
    "    return None"
   ]
  },
  {
   "cell_type": "code",
   "execution_count": 357,
   "id": "a922fba2",
   "metadata": {},
   "outputs": [],
   "source": [
    "### DELETE ME TEST CODE ###"
   ]
  },
  {
   "cell_type": "markdown",
   "id": "2ac3f294",
   "metadata": {},
   "source": [
    "# Apply Suffixes"
   ]
  },
  {
   "cell_type": "markdown",
   "id": "0ccde097",
   "metadata": {},
   "source": [
    "**About Chamorro Suffixes:** Chamorro suffixes are attached to the end of a word, and sometimes they are preceded by a dash (-). All possessive pronouns are also included in this section as suffixes."
   ]
  },
  {
   "cell_type": "markdown",
   "id": "0f7ebaee",
   "metadata": {},
   "source": [
    "## Define Suffix Rules and Suffixes"
   ]
  },
  {
   "cell_type": "code",
   "execution_count": 97,
   "id": "5a1338fa",
   "metadata": {},
   "outputs": [],
   "source": [
    "# Define our vowel list\n",
    "vowel_list = [\"a\", \"e\", \"i\", \"o\", \"u\"]\n",
    "\n",
    "# Define rules for how to shift the last vowel in the word\n",
    "rules_suffixes_vowel_change = {\"a\": \"å\", \"u\": \"o\", \"i\": \"e\", \"o\": \"o\", \"e\": \"e\"}"
   ]
  },
  {
   "cell_type": "code",
   "execution_count": 98,
   "id": "6af21fab",
   "metadata": {},
   "outputs": [],
   "source": [
    "# Suffixes that don't require shifts\n",
    "suffixes_no_change = [\"guatu\", \"mågi\", \"magi\"]"
   ]
  },
  {
   "cell_type": "markdown",
   "id": "4ac39e5c",
   "metadata": {},
   "source": [
    "## Apply Suffixes With Vowel Shifts"
   ]
  },
  {
   "cell_type": "markdown",
   "id": "9235ad16",
   "metadata": {},
   "source": [
    "Vowel shifts with Chamorro suffixes will occur with the final vowel in the word. The final vowel may be the final character or not, so we will first find the position of the final vowel in the string and then modify that vowel if necessary"
   ]
  },
  {
   "cell_type": "code",
   "execution_count": 358,
   "id": "d8042008",
   "metadata": {},
   "outputs": [],
   "source": [
    "# Suffixes that require vowel shifts on base word\n",
    "suffixes_vowel_change = [\"-hu\", \"-ku\", \"-mu\", \"-ña\", \"-ta\"]"
   ]
  },
  {
   "cell_type": "code",
   "execution_count": 102,
   "id": "94151271",
   "metadata": {},
   "outputs": [],
   "source": [
    "def find_first_vowel_position(word, vowels):\n",
    "    \"\"\"\n",
    "    Finds the position of the first vowel in the string, starting from the end of the string.\n",
    "    \"\"\"\n",
    "\n",
    "    # Find the position of the first vowel in the word\n",
    "    for i in range(len(word)-1, -1, -1):\n",
    "        if word[i] in vowels:\n",
    "            position = i\n",
    "            break\n",
    "    \n",
    "    return position"
   ]
  },
  {
   "cell_type": "code",
   "execution_count": 303,
   "id": "61f755d3",
   "metadata": {},
   "outputs": [
    {
     "name": "stdout",
     "output_type": "stream",
     "text": [
      "5\n"
     ]
    }
   ],
   "source": [
    "### DELETE ME TEST CODE ###\n",
    "word = \"sapåtus\"\n",
    "pos = find_first_vowel_position(word, vowel_list)\n",
    "print(pos)"
   ]
  },
  {
   "cell_type": "code",
   "execution_count": 104,
   "id": "211867a0",
   "metadata": {},
   "outputs": [],
   "source": [
    "def apply_suffix_vowel_shifts(word, vowels, suffix, rules):\n",
    "    \"\"\"\n",
    "    Applies a suffix that requires vowel shifts to the base word.\n",
    "    \"\"\"\n",
    "    # Convert word to a list of characters\n",
    "    characters = list(word)\n",
    "    \n",
    "    # Get the position of the first vowel at the end of the string\n",
    "    position = find_first_vowel_position(word, vowels)\n",
    "    \n",
    "    # Replace the vowel\n",
    "    characters[position] = rules[characters[position]]\n",
    "    \n",
    "    new_word = \"\".join(characters) + suffix\n",
    "    \n",
    "    return new_word"
   ]
  },
  {
   "cell_type": "code",
   "execution_count": 304,
   "id": "4548366a",
   "metadata": {},
   "outputs": [
    {
     "name": "stdout",
     "output_type": "stream",
     "text": [
      "sapåtos-mu\n"
     ]
    }
   ],
   "source": [
    "### DELETE ME TEST CODE ###\n",
    "word = \"sapåtus\"\n",
    "suffix = \"-mu\"\n",
    "new_word = apply_suffix_vowel_shifts(word, vowel_list, suffix, rules_suffixes_vowel_change)\n",
    "print(new_word)"
   ]
  },
  {
   "cell_type": "markdown",
   "id": "e8f2d42f",
   "metadata": {},
   "source": [
    "## Apply Suffixes With \"n\" Change"
   ]
  },
  {
   "cell_type": "code",
   "execution_count": 359,
   "id": "d1e6c7c6",
   "metadata": {},
   "outputs": [],
   "source": [
    "# Suffixes that require \"n\" after vowels on base word\n",
    "suffixes_n_change = [\"-ñiha\", \"-miyu\", \"-måmi\", \"-ñíñiha\", \"-mímiyu\", \"-måmåmi\"]"
   ]
  },
  {
   "cell_type": "code",
   "execution_count": 116,
   "id": "4f867001",
   "metadata": {},
   "outputs": [],
   "source": [
    "def apply_suffix_n_change(word, vowels, suffix):\n",
    "    \"\"\"\n",
    "    Applies suffixes that require the letter \"n\" to be added to the end of the base word, if it ends with a vowel.\n",
    "    \"\"\"\n",
    "    # Add \"n\" to the end of a string if the last character is in the vowel list\n",
    "    if word[-1] in vowels:\n",
    "        word = word + \"n\"\n",
    "    \n",
    "    # Add the suffix to the word\n",
    "    new_word = word + suffix\n",
    "    \n",
    "    return new_word"
   ]
  },
  {
   "cell_type": "code",
   "execution_count": 305,
   "id": "25aeb7d3",
   "metadata": {},
   "outputs": [
    {
     "name": "stdout",
     "output_type": "stream",
     "text": [
      "eskuelan-måmi\n"
     ]
    }
   ],
   "source": [
    "### DELETE ME TEST CODE ###\n",
    "word = \"eskuela\"\n",
    "suffix = \"-måmi\"\n",
    "new_word = apply_suffix_n_change(word, vowel_list, suffix)\n",
    "print(new_word)"
   ]
  },
  {
   "cell_type": "markdown",
   "id": "02bb7a43",
   "metadata": {},
   "source": [
    "## Apply Variable Suffixes"
   ]
  },
  {
   "cell_type": "markdown",
   "id": "b783d756",
   "metadata": {},
   "source": [
    "Some suffixes are applied differently, depending upon the final character of the base word."
   ]
  },
  {
   "cell_type": "code",
   "execution_count": 360,
   "id": "d9afac68",
   "metadata": {},
   "outputs": [],
   "source": [
    "# Suffixes that vary based upon the final character of the base word\n",
    "suffixes_variable = [\"i\", \"iyi\", \"on\", \"yon\"]"
   ]
  },
  {
   "cell_type": "code",
   "execution_count": 361,
   "id": "afc4d6ff",
   "metadata": {},
   "outputs": [],
   "source": [
    "def apply_sufixes_varied(word, suffix_rules, suffix):\n",
    "    \"\"\"\n",
    "    Transforms a word with suffixes that vary based on the base word.\n",
    "    \"\"\"\n",
    "    \n",
    "    return None"
   ]
  },
  {
   "cell_type": "markdown",
   "id": "a3172207",
   "metadata": {},
   "source": [
    "## Apply Suffixes With No Changes"
   ]
  },
  {
   "cell_type": "code",
   "execution_count": 140,
   "id": "c0f44698",
   "metadata": {},
   "outputs": [],
   "source": [
    "def apply_suffixes_no_changes(word, suffix):\n",
    "    \"\"\"\n",
    "    Apply suffixes that do not require changes to the base word\n",
    "    \"\"\"\n",
    "    return word + suffix"
   ]
  },
  {
   "cell_type": "code",
   "execution_count": 141,
   "id": "d94c3661",
   "metadata": {},
   "outputs": [
    {
     "name": "stdout",
     "output_type": "stream",
     "text": [
      "chule'guatu\n"
     ]
    }
   ],
   "source": [
    "### DELETE ME TEST CODE ###\n",
    "word = \"chule'\"\n",
    "suffix = \"guatu\"\n",
    "print(apply_suffixes_no_changes(word, suffix))"
   ]
  },
  {
   "cell_type": "markdown",
   "id": "cd271e78",
   "metadata": {},
   "source": [
    "# Apply Circumfixes"
   ]
  },
  {
   "cell_type": "markdown",
   "id": "95f5d20c",
   "metadata": {},
   "source": [
    "**About Chamorro Circumfixes:** There is only one circumfix in Chamorro, with is the fan-...-an circumfix. Morphophonemic changes to the base word are usually required."
   ]
  },
  {
   "cell_type": "code",
   "execution_count": 363,
   "id": "d6ae7363",
   "metadata": {},
   "outputs": [],
   "source": [
    "### FIX ME: Define Circumfix Rules ###"
   ]
  },
  {
   "cell_type": "code",
   "execution_count": 364,
   "id": "31a259ab",
   "metadata": {},
   "outputs": [],
   "source": [
    "def apply_circumfix(word, circumfix_rules):\n",
    "    \"\"\"\n",
    "    Applies the Chamorro circumfix fan..an to a word and returns the new word\n",
    "    \"\"\"\n",
    "    ### FIX ME ###\n",
    "    return None"
   ]
  },
  {
   "cell_type": "markdown",
   "id": "4a07fe8b",
   "metadata": {},
   "source": [
    "# Apply Reduplication"
   ]
  },
  {
   "cell_type": "markdown",
   "id": "0a27c9ca",
   "metadata": {},
   "source": [
    "In this section, we will be experimenting with different ways to transform words with reduplication. There are several forms of reduplication in Chamorro, and we will start with the most common ones, which is to reduplicate on the stressed syllable. To achive this, we will first split a word into syllables and then count the syllables. In general, the second to last syllable is the one that is reduplicated. We do this because spelling in Chamorro is not consistent, and we cannot always rely upon stressed characters to be in our data."
   ]
  },
  {
   "cell_type": "code",
   "execution_count": 159,
   "id": "bd21bb1e",
   "metadata": {},
   "outputs": [],
   "source": [
    "# def split_syllables(word):\n",
    "#     \"\"\"\n",
    "#     Splits a word into syllables in preparation for applying reduplication.\n",
    "#     We reduplicate the consonant and the vowels attached to it\n",
    "#     If the syllable ends in a consonant, don't repeat that last consonant\n",
    "#     If the syllable has two vowels, only repeat the first vowel\n",
    "#     But if they are vowel combos like ua, ue, ui, uo, we repeat the entire vowel combo\n",
    "#     \"\"\"\n",
    "#     # Match consonant(s) + vowel(s) + optional consonant(s), including glottal stops and diphthongs\n",
    "#     pattern = re.compile(r\"([bcdfghjklmnpqrstvwxyz]*[aeiouåáéíóú]*['])\", re.IGNORECASE)\n",
    "#     syllables = pattern.findall(word)\n",
    "#     syllable_count = len(syllables)-1\n",
    "#     return (syllables, syllable_count)"
   ]
  },
  {
   "cell_type": "markdown",
   "id": "e5426ac4",
   "metadata": {},
   "source": [
    "# Generate Word Lists"
   ]
  },
  {
   "cell_type": "markdown",
   "id": "3a5caa5f",
   "metadata": {},
   "source": [
    "We will now apply as many affixes and affix combinations as we want to our base word list and return a list of our new words. It will be a list of tuples where each tuple has the affixed word, the base word, and the affixes applied."
   ]
  },
  {
   "cell_type": "code",
   "execution_count": 381,
   "id": "fa885529",
   "metadata": {},
   "outputs": [],
   "source": [
    "def apply_functions_with_args(words, func_args_map):\n",
    "    \"\"\"\n",
    "    Applies each function with its corresponding specific arguments for each word in the list.\n",
    "    \n",
    "    Parameters:\n",
    "    - words: List of words to affix\n",
    "    - func_args_map: Dictionary where keys are functions, and values are tuples of arguments\n",
    "    \n",
    "    Returns:\n",
    "    - List of tuples containing the affixed word, their base words and the affix name\n",
    "    \"\"\"\n",
    "    results = []\n",
    "    \n",
    "    for word in words:\n",
    "        for func, args in func_args_map.items():\n",
    "            #affix_name = args[-1]\n",
    "            result = func(word, *args)\n",
    "            results.append((result, word))\n",
    "        \n",
    "    return results"
   ]
  },
  {
   "cell_type": "code",
   "execution_count": 382,
   "id": "a1ce0473",
   "metadata": {},
   "outputs": [],
   "source": [
    "# Define functions with their specific arguments\n",
    "func_args_map = {\n",
    "    vowel_harmonized_word: (vowels, vowel_harmony_rules),\n",
    "    apply_um_infix: (),\n",
    "    apply_in_infix: (vowels, vowel_harmony_rules),\n",
    "    apply_prefix: (\"á\", vowels), # FIX ME: We need to iterate through a list of prefixes\n",
    "    apply_man_prefix: (man_prefix_rules, \"man\"),\n",
    "    apply_double_man_prefix: (man_prefix_rules, \"man\"),\n",
    "    apply_fan_prefix: (man_prefix_rules, \"fan\"),\n",
    "    apply_double_man_prefix_f: (man_prefix_rules, \"fan\")\n",
    "}"
   ]
  },
  {
   "cell_type": "code",
   "execution_count": 383,
   "id": "44e80cb7",
   "metadata": {},
   "outputs": [
    {
     "name": "stdout",
     "output_type": "stream",
     "text": [
      "('kuentusi', 'kuentusi')\n",
      "('kumuentusi', 'kuentusi')\n",
      "('kinuentusi', 'kuentusi')\n",
      "('ákuentusi', 'kuentusi')\n",
      "('manguentusi', 'kuentusi')\n",
      "('manmanguentusi', 'kuentusi')\n",
      "('fanguentusi', 'kuentusi')\n",
      "('fanmanguentusi', 'kuentusi')\n"
     ]
    }
   ],
   "source": [
    "### DELETE ME TEST CODE ###\n",
    "word_list = [\"kuentusi\"]\n",
    "output = apply_functions_with_args(word_list, func_args_map)\n",
    "for i in output:\n",
    "    print(i)"
   ]
  },
  {
   "cell_type": "code",
   "execution_count": null,
   "id": "ef729369",
   "metadata": {},
   "outputs": [],
   "source": [
    "### FIX ME ###\n",
    "### combine affixes by passing functions through other functions ###"
   ]
  },
  {
   "cell_type": "markdown",
   "id": "d9cc170a",
   "metadata": {},
   "source": [
    "# Export to CSV"
   ]
  },
  {
   "cell_type": "markdown",
   "id": "69e8c2c7",
   "metadata": {},
   "source": [
    "We will take all the word lists from above and export them to CSV files."
   ]
  },
  {
   "cell_type": "code",
   "execution_count": 92,
   "id": "583d177e",
   "metadata": {},
   "outputs": [],
   "source": [
    "# def convert_to_dataframe(affixed_words):\n",
    "#     \"\"\"\n",
    "#     In this function, we convert our newly affixed words to a dataframe, and then export it to a CSV file.\n",
    "#     We will also include metadata from the original word list to our exported CSV file.\n",
    "#     \"\"\"\n",
    "#     # Get new words\n",
    "#     new_words = affixed_words[0]\n",
    "    \n",
    "#     # Get old words\n",
    "#     old_words = affixed_words[1]\n",
    "    \n",
    "#     # Get Affix Name\n",
    "#     affix_name = affixed_words[0][0][2]\n",
    "    \n",
    "#     # Convert list to dataframe\n",
    "#     infixed_words_df = pd.DataFrame(new_words, columns=[\"Word\", \"Term\", \"Affix\"])\n",
    "#     # Add the original Definition and Root Word to the infixed words df\n",
    "#     filtered_df = old_words[[\"Term\", \"Definition\", \"Root Word\"]]\n",
    "#     infixed_words_df = pd.merge(infixed_words_df, filtered_df, on=\"Term\", how=\"left\")\n",
    "    \n",
    "#     # Save dataframe as CSV\n",
    "#     infixed_words_df.to_csv(f\"{affix_name}_affixed_words.csv\", index=False, encoding=\"utf-8\")"
   ]
  },
  {
   "cell_type": "code",
   "execution_count": 99,
   "id": "daf44c31",
   "metadata": {},
   "outputs": [],
   "source": [
    "# # TEST Pass thru the convert_to_dataframe function\n",
    "# infixed_words = [um_infixed_words, in_infixed_words]\n",
    "\n",
    "# for output in infixed_words:\n",
    "#     convert_to_dataframe(output)"
   ]
  }
 ],
 "metadata": {
  "kernelspec": {
   "display_name": "Python 3 (ipykernel)",
   "language": "python",
   "name": "python3"
  },
  "language_info": {
   "codemirror_mode": {
    "name": "ipython",
    "version": 3
   },
   "file_extension": ".py",
   "mimetype": "text/x-python",
   "name": "python",
   "nbconvert_exporter": "python",
   "pygments_lexer": "ipython3",
   "version": "3.11.7"
  }
 },
 "nbformat": 4,
 "nbformat_minor": 5
}
