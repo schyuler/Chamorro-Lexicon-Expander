{
 "cells": [
  {
   "cell_type": "markdown",
   "id": "45da0500",
   "metadata": {},
   "source": [
    "# Chamorro Lexicon Expander"
   ]
  },
  {
   "cell_type": "markdown",
   "id": "9ddbf814",
   "metadata": {},
   "source": [
    "**Chamorro Lexicon Expander** is a Python project designed to expand the Chamorro-English dictionary by generating all possible affixed variations of Chamorro root words. This tool automates the process of creating word forms using common Chamorro prefixes, suffixes, and infixes according to linguistic rules. This project enables a more comprehensive representation of Chamorro vocabulary for language learners, linguists, and dictionary development."
   ]
  },
  {
   "cell_type": "markdown",
   "id": "77d37b60",
   "metadata": {},
   "source": [
    "**Name:** Schyuler Lujan <br>\n",
    "**Date Started:** 10-Nov-2024 <br>\n",
    "**Date Complete:** In Progress <br>"
   ]
  },
  {
   "cell_type": "code",
   "execution_count": 2,
   "id": "817ed91a",
   "metadata": {},
   "outputs": [],
   "source": [
    "# Import libraries\n",
    "import re\n",
    "import pandas as pd\n",
    "import csv"
   ]
  },
  {
   "cell_type": "markdown",
   "id": "c1683094",
   "metadata": {},
   "source": [
    "# Import and Clean Data"
   ]
  },
  {
   "cell_type": "markdown",
   "id": "e995e9d5",
   "metadata": {},
   "source": [
    "**About this data:** For this project, we will be using the words and part-of-speech tags from the Revised Chamorro-English dictionary, which is available for free at https://natibunmarianas.org/chamorro-dictionary/. We will be using this data because it is currently the only freely available resource online with the most complete and reliably accurate part-of-speech tags on Chamorro words. Part-of-speech tags will determine which words can be transformed with the different affixes."
   ]
  },
  {
   "cell_type": "code",
   "execution_count": 52,
   "id": "c69f99be",
   "metadata": {},
   "outputs": [],
   "source": [
    "# Import files and convert to dataframes\n",
    "tverbs_df = pd.read_csv(\"transitive-verbs.csv\", encoding=\"utf-8\")\n",
    "iverbs_df = pd.read_csv(\"intransitive-verbs.csv\", encoding=\"utf-8\")"
   ]
  },
  {
   "cell_type": "code",
   "execution_count": 53,
   "id": "dd257f29",
   "metadata": {},
   "outputs": [],
   "source": [
    "# Select only the Term and Definition columns\n",
    "tverbs_df = tverbs_df[[\"Term\", \"Definition\"]]\n",
    "iverbs_df = iverbs_df[[\"Term\", \"Definition\"]]"
   ]
  },
  {
   "cell_type": "markdown",
   "id": "f57c3a2c",
   "metadata": {},
   "source": [
    "# Apply Infixes"
   ]
  },
  {
   "cell_type": "markdown",
   "id": "f272ffb9",
   "metadata": {},
   "source": [
    "**About Chamorro Infixes:** Infixes are affixes that occur within the word, rather than being attached in front of the word or at the end. In Chamorro, infixes are always applied before the first vowel of the word they are attached to. If the word it's being attached to starts with a vowel, the infix is still placed in front of that vowel. There are two infixes in Chamorro: -in- and -um-."
   ]
  },
  {
   "cell_type": "code",
   "execution_count": 72,
   "id": "b720aa8f",
   "metadata": {},
   "outputs": [],
   "source": [
    "def infixes(df, part_of_speech):\n",
    "    \"\"\"\n",
    "    Applies the -in- and -um- infixes, since they follow the same pattern.\n",
    "    We will find the first vowel in the word, and append the infix in front of it.\n",
    "    \"\"\"\n",
    "    # Create a list of vowels to search for in the words\n",
    "    vowels = ['a', 'á', 'å', 'e', 'é', 'i', 'í', 'o', 'ó', 'u']\n",
    "    \n",
    "    # Create a dictionary of vowel harmony rules, for -in- infix\n",
    "    vowel_harmony = {\"å\": \"a\", \"o\": \"e\", \"u\": \"i\"}\n",
    "    \n",
    "    # Get the terms and convert dataframe to a list\n",
    "    word_list = df[\"Term\"].tolist()\n",
    "    \n",
    "    # Initialize list to store new words\n",
    "    infixed_words = []\n",
    "    \n",
    "    # Affix words with -um- and append to list, with other metadata\n",
    "    for word in word_list:\n",
    "        for letter in word:\n",
    "            if letter in vowels:\n",
    "                slice_start = word.index(letter)\n",
    "                um_word = word[0:slice_start]+\"um\"+word[slice_start:]\n",
    "                infixed_words.append((um_word, word, \"UM Infix\", part_of_speech))\n",
    "                break\n",
    "                \n",
    "    # Affix words with -in- using vowel harmony and append to list with other metadata\n",
    "    ##### FIXME #####\n",
    "    \n",
    "    # Convert list to dataframe\n",
    "    infixed_words_df = pd.DataFrame(infixed_words, columns=[\"NewWord\", \"Term\", \"Affix\", \"PartOfSpeech\"])\n",
    "    # Also add the original Definition\n",
    "    infixed_words_df = pd.merge(infixed_words_df, df, on=\"Term\", how=\"left\")\n",
    "    \n",
    "    # Save dataframe as CSV\n",
    "    infixed_words_df.to_csv(\"infixed_words.csv\", index=False, encoding=\"utf-8\")\n",
    "    \n",
    "    return infixed_words_df"
   ]
  },
  {
   "cell_type": "code",
   "execution_count": 73,
   "id": "36df7d40",
   "metadata": {},
   "outputs": [],
   "source": [
    "# Pass the dataframe, and type the part of speech\n",
    "infixed_words = infixes(tverbs_df, \"Transitive Verb\")"
   ]
  }
 ],
 "metadata": {
  "kernelspec": {
   "display_name": "Python 3 (ipykernel)",
   "language": "python",
   "name": "python3"
  },
  "language_info": {
   "codemirror_mode": {
    "name": "ipython",
    "version": 3
   },
   "file_extension": ".py",
   "mimetype": "text/x-python",
   "name": "python",
   "nbconvert_exporter": "python",
   "pygments_lexer": "ipython3",
   "version": "3.11.7"
  }
 },
 "nbformat": 4,
 "nbformat_minor": 5
}
